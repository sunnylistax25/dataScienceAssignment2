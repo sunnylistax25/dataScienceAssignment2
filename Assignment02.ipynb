{
  "cells": [
    {
      "cell_type": "code",
      "execution_count": null,
      "metadata": {
        "id": "IAreZD_lw5Cj"
      },
      "outputs": [],
      "source": [
        "from sklearn import tree\n",
        "features = [[10,18,25] , \n",
        "[12,36,32] , \n",
        "[5,50,10] , \n",
        "[53,0,0] , \n",
        "[15,45,12] , \n",
        "[18,5,17] , \n",
        "[0,68,27] , \n",
        "[22,37,8] , \n",
        "[27,15,18] , \n",
        "[19,21,0] , \n",
        "[15,1,10] , \n",
        "[25,8,10] ,\n",
        "[16,10,5] , \n",
        "[24,0,0] , \n",
        "[22,6,12] , \n",
        "[25,0,10] , \n",
        "[26,4,0] , \n",
        "[19,9,11] , \n",
        "[20,7,15] , \n",
        "[17,2,7]]\n",
        "labels = [0,0,0,0,0,0,0,0,0,0,1,1,1,1,1,1,1,1,1,1]\n",
        "clf = tree.DecisionTreeClassifier()\n",
        "clf = clf.fit(features , labels)\n",
        "output_01 = clf.predict([[25 , 8 , 31]])\n",
        "output_02 = clf.predict([[45 , 5 , 2]])\n",
        "output_03 = clf.predict([[16 , 10 , 13]])\n",
        "\n"
      ]
    },
    {
      "cell_type": "code",
      "execution_count": null,
      "metadata": {
        "colab": {
          "base_uri": "https://localhost:8080/"
        },
        "id": "cOIE37FRw5Ck",
        "outputId": "a559d4e6-b866-43cb-aa51-8ebf8424f4c2"
      },
      "outputs": [
        {
          "name": "stdout",
          "output_type": "stream",
          "text": [
            "[0]\n",
            "False\n"
          ]
        }
      ],
      "source": [
        "print(output_01)\n",
        "if(output_01 == 0):\n",
        "  print(\"False\")\n",
        "elif(output_01 == 1):\n",
        "  print(\"True\")"
      ]
    },
    {
      "cell_type": "code",
      "execution_count": null,
      "metadata": {
        "colab": {
          "base_uri": "https://localhost:8080/"
        },
        "id": "U7kCivGWw5Cl",
        "outputId": "3c9dcbde-997f-41a7-9122-e65dba135e70"
      },
      "outputs": [
        {
          "name": "stdout",
          "output_type": "stream",
          "text": [
            "[0]\n",
            "False\n"
          ]
        }
      ],
      "source": [
        "print(output_02)\n",
        "if(output_02 == 0):\n",
        "  print(\"False\")\n",
        "elif(output_02 == 1):\n",
        "  print(\"True\")"
      ]
    },
    {
      "cell_type": "code",
      "execution_count": null,
      "metadata": {
        "colab": {
          "base_uri": "https://localhost:8080/"
        },
        "id": "U8Ak0zBtw5Cl",
        "outputId": "a292befa-b59d-4579-d63b-443b4f3033b9"
      },
      "outputs": [
        {
          "name": "stdout",
          "output_type": "stream",
          "text": [
            "[1]\n",
            "True\n"
          ]
        }
      ],
      "source": [
        "print(output_03)\n",
        "if(output_03 == 0):\n",
        "  print(\"False\")\n",
        "elif(output_03 == 1):\n",
        "  print(\"True\")"
      ]
    },
    {
      "cell_type": "code",
      "execution_count": null,
      "metadata": {
        "id": "qXHZq1QZw5Cl"
      },
      "outputs": [],
      "source": [
        "import pandas as pd"
      ]
    },
    {
      "cell_type": "code",
      "execution_count": null,
      "metadata": {
        "id": "E4rKoLe6w5Cm"
      },
      "outputs": [],
      "source": [
        "covidData = pd.read_csv(\"Covid.csv\")"
      ]
    },
    {
      "cell_type": "code",
      "execution_count": null,
      "metadata": {
        "colab": {
          "base_uri": "https://localhost:8080/",
          "height": 983
        },
        "id": "WgnAypAS-vbk",
        "outputId": "113b0cde-f811-40cc-d74d-a5a125ed134b"
      },
      "outputs": [
        {
          "data": {
            "text/html": [
              "<div>\n",
              "<style scoped>\n",
              "    .dataframe tbody tr th:only-of-type {\n",
              "        vertical-align: middle;\n",
              "    }\n",
              "\n",
              "    .dataframe tbody tr th {\n",
              "        vertical-align: top;\n",
              "    }\n",
              "\n",
              "    .dataframe thead th {\n",
              "        text-align: right;\n",
              "    }\n",
              "</style>\n",
              "<table border=\"1\" class=\"dataframe\">\n",
              "  <thead>\n",
              "    <tr style=\"text-align: right;\">\n",
              "      <th></th>\n",
              "      <th>Temperature</th>\n",
              "      <th>Headache</th>\n",
              "      <th>TasteBuds</th>\n",
              "      <th>Target</th>\n",
              "    </tr>\n",
              "  </thead>\n",
              "  <tbody>\n",
              "    <tr>\n",
              "      <th>0</th>\n",
              "      <td>42.0</td>\n",
              "      <td>0</td>\n",
              "      <td>0</td>\n",
              "      <td>0</td>\n",
              "    </tr>\n",
              "    <tr>\n",
              "      <th>1</th>\n",
              "      <td>48.0</td>\n",
              "      <td>1</td>\n",
              "      <td>0</td>\n",
              "      <td>0</td>\n",
              "    </tr>\n",
              "    <tr>\n",
              "      <th>2</th>\n",
              "      <td>41.5</td>\n",
              "      <td>1</td>\n",
              "      <td>0</td>\n",
              "      <td>0</td>\n",
              "    </tr>\n",
              "    <tr>\n",
              "      <th>3</th>\n",
              "      <td>40.6</td>\n",
              "      <td>0</td>\n",
              "      <td>1</td>\n",
              "      <td>0</td>\n",
              "    </tr>\n",
              "    <tr>\n",
              "      <th>4</th>\n",
              "      <td>45.3</td>\n",
              "      <td>0</td>\n",
              "      <td>0</td>\n",
              "      <td>0</td>\n",
              "    </tr>\n",
              "    <tr>\n",
              "      <th>5</th>\n",
              "      <td>42.6</td>\n",
              "      <td>1</td>\n",
              "      <td>0</td>\n",
              "      <td>0</td>\n",
              "    </tr>\n",
              "    <tr>\n",
              "      <th>6</th>\n",
              "      <td>50.9</td>\n",
              "      <td>1</td>\n",
              "      <td>0</td>\n",
              "      <td>0</td>\n",
              "    </tr>\n",
              "    <tr>\n",
              "      <th>7</th>\n",
              "      <td>41.1</td>\n",
              "      <td>0</td>\n",
              "      <td>0</td>\n",
              "      <td>0</td>\n",
              "    </tr>\n",
              "    <tr>\n",
              "      <th>8</th>\n",
              "      <td>45.7</td>\n",
              "      <td>0</td>\n",
              "      <td>1</td>\n",
              "      <td>0</td>\n",
              "    </tr>\n",
              "    <tr>\n",
              "      <th>9</th>\n",
              "      <td>39.8</td>\n",
              "      <td>0</td>\n",
              "      <td>0</td>\n",
              "      <td>0</td>\n",
              "    </tr>\n",
              "    <tr>\n",
              "      <th>10</th>\n",
              "      <td>39.7</td>\n",
              "      <td>0</td>\n",
              "      <td>0</td>\n",
              "      <td>0</td>\n",
              "    </tr>\n",
              "    <tr>\n",
              "      <th>11</th>\n",
              "      <td>49.1</td>\n",
              "      <td>1</td>\n",
              "      <td>0</td>\n",
              "      <td>0</td>\n",
              "    </tr>\n",
              "    <tr>\n",
              "      <th>12</th>\n",
              "      <td>44.2</td>\n",
              "      <td>1</td>\n",
              "      <td>0</td>\n",
              "      <td>0</td>\n",
              "    </tr>\n",
              "    <tr>\n",
              "      <th>13</th>\n",
              "      <td>44.9</td>\n",
              "      <td>1</td>\n",
              "      <td>0</td>\n",
              "      <td>0</td>\n",
              "    </tr>\n",
              "    <tr>\n",
              "      <th>14</th>\n",
              "      <td>50.1</td>\n",
              "      <td>0</td>\n",
              "      <td>1</td>\n",
              "      <td>0</td>\n",
              "    </tr>\n",
              "    <tr>\n",
              "      <th>15</th>\n",
              "      <td>37.0</td>\n",
              "      <td>1</td>\n",
              "      <td>1</td>\n",
              "      <td>1</td>\n",
              "    </tr>\n",
              "    <tr>\n",
              "      <th>16</th>\n",
              "      <td>37.1</td>\n",
              "      <td>0</td>\n",
              "      <td>1</td>\n",
              "      <td>1</td>\n",
              "    </tr>\n",
              "    <tr>\n",
              "      <th>17</th>\n",
              "      <td>37.2</td>\n",
              "      <td>1</td>\n",
              "      <td>1</td>\n",
              "      <td>1</td>\n",
              "    </tr>\n",
              "    <tr>\n",
              "      <th>18</th>\n",
              "      <td>36.8</td>\n",
              "      <td>1</td>\n",
              "      <td>1</td>\n",
              "      <td>1</td>\n",
              "    </tr>\n",
              "    <tr>\n",
              "      <th>19</th>\n",
              "      <td>37.5</td>\n",
              "      <td>1</td>\n",
              "      <td>1</td>\n",
              "      <td>1</td>\n",
              "    </tr>\n",
              "    <tr>\n",
              "      <th>20</th>\n",
              "      <td>37.9</td>\n",
              "      <td>1</td>\n",
              "      <td>0</td>\n",
              "      <td>1</td>\n",
              "    </tr>\n",
              "    <tr>\n",
              "      <th>21</th>\n",
              "      <td>37.8</td>\n",
              "      <td>0</td>\n",
              "      <td>1</td>\n",
              "      <td>1</td>\n",
              "    </tr>\n",
              "    <tr>\n",
              "      <th>22</th>\n",
              "      <td>38.0</td>\n",
              "      <td>0</td>\n",
              "      <td>1</td>\n",
              "      <td>1</td>\n",
              "    </tr>\n",
              "    <tr>\n",
              "      <th>23</th>\n",
              "      <td>37.4</td>\n",
              "      <td>0</td>\n",
              "      <td>1</td>\n",
              "      <td>1</td>\n",
              "    </tr>\n",
              "    <tr>\n",
              "      <th>24</th>\n",
              "      <td>37.3</td>\n",
              "      <td>1</td>\n",
              "      <td>0</td>\n",
              "      <td>1</td>\n",
              "    </tr>\n",
              "    <tr>\n",
              "      <th>25</th>\n",
              "      <td>37.6</td>\n",
              "      <td>1</td>\n",
              "      <td>1</td>\n",
              "      <td>1</td>\n",
              "    </tr>\n",
              "    <tr>\n",
              "      <th>26</th>\n",
              "      <td>38.1</td>\n",
              "      <td>1</td>\n",
              "      <td>1</td>\n",
              "      <td>1</td>\n",
              "    </tr>\n",
              "    <tr>\n",
              "      <th>27</th>\n",
              "      <td>37.7</td>\n",
              "      <td>1</td>\n",
              "      <td>1</td>\n",
              "      <td>1</td>\n",
              "    </tr>\n",
              "    <tr>\n",
              "      <th>28</th>\n",
              "      <td>38.3</td>\n",
              "      <td>1</td>\n",
              "      <td>0</td>\n",
              "      <td>1</td>\n",
              "    </tr>\n",
              "    <tr>\n",
              "      <th>29</th>\n",
              "      <td>38.2</td>\n",
              "      <td>0</td>\n",
              "      <td>1</td>\n",
              "      <td>1</td>\n",
              "    </tr>\n",
              "  </tbody>\n",
              "</table>\n",
              "</div>"
            ],
            "text/plain": [
              "    Temperature  Headache  TasteBuds  Target\n",
              "0          42.0         0          0       0\n",
              "1          48.0         1          0       0\n",
              "2          41.5         1          0       0\n",
              "3          40.6         0          1       0\n",
              "4          45.3         0          0       0\n",
              "5          42.6         1          0       0\n",
              "6          50.9         1          0       0\n",
              "7          41.1         0          0       0\n",
              "8          45.7         0          1       0\n",
              "9          39.8         0          0       0\n",
              "10         39.7         0          0       0\n",
              "11         49.1         1          0       0\n",
              "12         44.2         1          0       0\n",
              "13         44.9         1          0       0\n",
              "14         50.1         0          1       0\n",
              "15         37.0         1          1       1\n",
              "16         37.1         0          1       1\n",
              "17         37.2         1          1       1\n",
              "18         36.8         1          1       1\n",
              "19         37.5         1          1       1\n",
              "20         37.9         1          0       1\n",
              "21         37.8         0          1       1\n",
              "22         38.0         0          1       1\n",
              "23         37.4         0          1       1\n",
              "24         37.3         1          0       1\n",
              "25         37.6         1          1       1\n",
              "26         38.1         1          1       1\n",
              "27         37.7         1          1       1\n",
              "28         38.3         1          0       1\n",
              "29         38.2         0          1       1"
            ]
          },
          "execution_count": 115,
          "metadata": {},
          "output_type": "execute_result"
        }
      ],
      "source": [
        "covidData"
      ]
    },
    {
      "cell_type": "code",
      "execution_count": null,
      "metadata": {
        "id": "ogylD9-o_Ly1"
      },
      "outputs": [],
      "source": [
        "data = []\n",
        "for i in range (30):\n",
        "  data.append([covidData.Temperature[i], covidData.Headache[i] , covidData.TasteBuds[i]])"
      ]
    },
    {
      "cell_type": "code",
      "execution_count": null,
      "metadata": {
        "colab": {
          "base_uri": "https://localhost:8080/"
        },
        "id": "uQ6jndXa_WVc",
        "outputId": "ac5be633-b72f-4657-d765-402233f23f56"
      },
      "outputs": [
        {
          "data": {
            "text/plain": [
              "[[42.0, 0, 0],\n",
              " [48.0, 1, 0],\n",
              " [41.5, 1, 0],\n",
              " [40.6, 0, 1],\n",
              " [45.3, 0, 0],\n",
              " [42.6, 1, 0],\n",
              " [50.9, 1, 0],\n",
              " [41.1, 0, 0],\n",
              " [45.7, 0, 1],\n",
              " [39.8, 0, 0],\n",
              " [39.7, 0, 0],\n",
              " [49.1, 1, 0],\n",
              " [44.2, 1, 0],\n",
              " [44.9, 1, 0],\n",
              " [50.1, 0, 1],\n",
              " [37.0, 1, 1],\n",
              " [37.1, 0, 1],\n",
              " [37.2, 1, 1],\n",
              " [36.8, 1, 1],\n",
              " [37.5, 1, 1],\n",
              " [37.9, 1, 0],\n",
              " [37.8, 0, 1],\n",
              " [38.0, 0, 1],\n",
              " [37.4, 0, 1],\n",
              " [37.3, 1, 0],\n",
              " [37.6, 1, 1],\n",
              " [38.1, 1, 1],\n",
              " [37.7, 1, 1],\n",
              " [38.3, 1, 0],\n",
              " [38.2, 0, 1]]"
            ]
          },
          "execution_count": 117,
          "metadata": {},
          "output_type": "execute_result"
        }
      ],
      "source": [
        "data"
      ]
    },
    {
      "cell_type": "code",
      "execution_count": null,
      "metadata": {
        "colab": {
          "base_uri": "https://localhost:8080/"
        },
        "id": "nOtOyQ5u_W1t",
        "outputId": "c6bc7fa3-33b5-4357-e0cd-424f1aef5b05"
      },
      "outputs": [
        {
          "data": {
            "text/plain": [
              "30"
            ]
          },
          "execution_count": 118,
          "metadata": {},
          "output_type": "execute_result"
        }
      ],
      "source": [
        "len(data)"
      ]
    },
    {
      "cell_type": "code",
      "execution_count": null,
      "metadata": {
        "id": "IHznbQErCwIm"
      },
      "outputs": [],
      "source": [
        "X = data\n",
        "Y = covidData.Target"
      ]
    },
    {
      "cell_type": "code",
      "execution_count": null,
      "metadata": {
        "id": "h7J26hlSC9I-"
      },
      "outputs": [],
      "source": [
        "from sklearn.model_selection import train_test_split\n",
        "X_train, X_test, Y_train, Y_test = train_test_split(X, Y, test_size=0.3)"
      ]
    },
    {
      "cell_type": "code",
      "execution_count": null,
      "metadata": {
        "id": "lHr236vHDEJJ"
      },
      "outputs": [],
      "source": [
        "from sklearn import tree\n",
        "\n",
        "my_classifier = tree.DecisionTreeClassifier()"
      ]
    },
    {
      "cell_type": "code",
      "execution_count": null,
      "metadata": {
        "colab": {
          "base_uri": "https://localhost:8080/"
        },
        "id": "4OZDfug7DGPf",
        "outputId": "2c159e3e-c621-4d2f-c37b-e00ef2766246"
      },
      "outputs": [
        {
          "data": {
            "text/plain": [
              "DecisionTreeClassifier()"
            ]
          },
          "execution_count": 122,
          "metadata": {},
          "output_type": "execute_result"
        }
      ],
      "source": [
        "my_classifier.fit(X_train , Y_train)"
      ]
    },
    {
      "cell_type": "code",
      "execution_count": null,
      "metadata": {
        "id": "HZi97fo1DIUM"
      },
      "outputs": [],
      "source": [
        "myPred = my_classifier.predict(X_test)"
      ]
    },
    {
      "cell_type": "code",
      "execution_count": null,
      "metadata": {
        "colab": {
          "base_uri": "https://localhost:8080/"
        },
        "id": "ZPor_UbUDK1Z",
        "outputId": "029ce7ac-6b48-48f4-a44d-1bd9a0a310b1"
      },
      "outputs": [
        {
          "data": {
            "text/plain": [
              "array([1, 1, 0, 1, 0, 0, 1, 0, 0], dtype=int64)"
            ]
          },
          "execution_count": 124,
          "metadata": {},
          "output_type": "execute_result"
        }
      ],
      "source": [
        "myPred"
      ]
    },
    {
      "cell_type": "code",
      "execution_count": null,
      "metadata": {
        "colab": {
          "base_uri": "https://localhost:8080/"
        },
        "id": "1J7ekYHbDNTO",
        "outputId": "fbff8368-b918-4ec8-d924-011b4e930700"
      },
      "outputs": [
        {
          "data": {
            "text/plain": [
              "23    1\n",
              "15    1\n",
              "8     0\n",
              "25    1\n",
              "5     0\n",
              "14    0\n",
              "20    1\n",
              "7     0\n",
              "9     0\n",
              "Name: Target, dtype: int64"
            ]
          },
          "execution_count": 125,
          "metadata": {},
          "output_type": "execute_result"
        }
      ],
      "source": [
        "Y_test"
      ]
    },
    {
      "cell_type": "code",
      "execution_count": null,
      "metadata": {
        "colab": {
          "base_uri": "https://localhost:8080/"
        },
        "id": "nPc-DsHeDryU",
        "outputId": "4e73c25e-7a7e-4a97-9712-99ad075b7a99"
      },
      "outputs": [
        {
          "name": "stdout",
          "output_type": "stream",
          "text": [
            "1.0\n"
          ]
        }
      ],
      "source": [
        "from sklearn.metrics import accuracy_score\n",
        "\n",
        "print(accuracy_score(Y_test, myPred))"
      ]
    },
    {
      "cell_type": "code",
      "execution_count": null,
      "metadata": {
        "id": "oYsX4As3DwBP"
      },
      "outputs": [],
      "source": [
        ""
      ]
    }
  ],
  "metadata": {
    "colab": {
      "collapsed_sections": [],
      "name": "Assignment02.ipynb",
      "provenance": []
    },
    "interpreter": {
      "hash": "6bd845500ef7d3d729b2f916e8187818c31a99b332c7c8dd0b88f3fe59496016"
    },
    "kernelspec": {
      "display_name": "Python 3.9.8 64-bit (windows store)",
      "language": "python",
      "name": "python3"
    },
    "language_info": {
      "codemirror_mode": {
        "name": "ipython",
        "version": 3
      },
      "file_extension": ".py",
      "mimetype": "text/x-python",
      "name": "python",
      "nbconvert_exporter": "python",
      "pygments_lexer": "ipython3",
      "version": "3.8.8"
    },
    "orig_nbformat": 4
  },
  "nbformat": 4,
  "nbformat_minor": 0
}